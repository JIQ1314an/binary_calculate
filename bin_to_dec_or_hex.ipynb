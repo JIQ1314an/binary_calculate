{
 "cells": [
  {
   "cell_type": "markdown",
   "id": "sexual-teacher",
   "metadata": {},
   "source": [
    "### 简单的进制转换"
   ]
  },
  {
   "cell_type": "code",
   "execution_count": 11,
   "id": "recognized-resistance",
   "metadata": {},
   "outputs": [
    {
     "name": "stdout",
     "output_type": "stream",
     "text": [
      "输入一个二进制：100\n",
      "十进制： 4\n",
      "十六进制： 0x4\n"
     ]
    }
   ],
   "source": [
    "# oct(10) # 八进制\n",
    "# hex(10) # 十六进制\n",
    "# bin(10) # 二进制\n",
    "# int(str(oct(10)), 8) # 八进制转为十进制\n",
    "binStr = input('输入一个二进制：') # 输入一个二进制\n",
    "decNum = int(binStr, 2)\n",
    "print('十进制：', decNum) # 二进制转为十进制\n",
    "print('十六进制：', hex(decNum)) # 二进制转为十六进制"
   ]
  },
  {
   "cell_type": "markdown",
   "id": "contemporary-steering",
   "metadata": {},
   "source": [
    "### 二进制加法（同字长，结果也是同字长）"
   ]
  },
  {
   "cell_type": "code",
   "execution_count": 5,
   "id": "delayed-external",
   "metadata": {},
   "outputs": [
    {
     "name": "stdout",
     "output_type": "stream",
     "text": [
      "输入二进制（A）：1\n",
      "输入二进制（B）：1\n",
      "0\n"
     ]
    }
   ],
   "source": [
    "# 同字长，不扩容\n",
    "# 二进制加法\n",
    "binStrA = input('输入二进制（A）：')\n",
    "binStrB = input('输入二进制（B）：')\n",
    "tempRes = ''\n",
    "carry_device = 0   # 进位器\n",
    "for a, b in zip(binStrA[::-1],binStrB[::-1]):\n",
    "    a = int(a)\n",
    "    b = int(b)\n",
    "    direct_add = a + b + carry_device\n",
    "    if direct_add < 2:\n",
    "        tempRes += str(direct_add)\n",
    "        carry_device = 0\n",
    "    else:\n",
    "        tempRes += str(direct_add % 2)\n",
    "        carry_device = 1\n",
    "print(tempRes[::-1])"
   ]
  },
  {
   "cell_type": "markdown",
   "id": "written-publisher",
   "metadata": {},
   "source": [
    "### A与B可以是不同字长，结果也无字长限制"
   ]
  },
  {
   "cell_type": "code",
   "execution_count": 6,
   "id": "preceding-bermuda",
   "metadata": {},
   "outputs": [],
   "source": [
    "# 使A与B位数相同\n",
    "def addZeroOps(binStr, length):\n",
    "    zeroNums =  length - len(binStr)\n",
    "    newBinStr = '0'\n",
    "    if zeroNums > 0:\n",
    "        newBinStr * zeroNums\n",
    "        newBinStr += binStr\n",
    "        return newBinStr\n",
    "    return binStr\n",
    "# 计算函数\n",
    "def cal_add_func(binStrA, binStrB):\n",
    "    tempRes = ''\n",
    "    carry_device = 0   # 进位器\n",
    "    count = 0 # 计数器\n",
    "    length = max(len(binStrA), len(binStrB))\n",
    "    binStrA = addZeroOps(binStrA, length)\n",
    "    binStrB = addZeroOps(binStrB, length)\n",
    "\n",
    "    for a, b in zip(binStrA[::-1],binStrB[::-1]):\n",
    "        a = int(a)\n",
    "        b = int(b)\n",
    "        direct_add = a + b + carry_device\n",
    "        if direct_add < 2:\n",
    "            tempRes += str(direct_add)\n",
    "            carry_device = 0\n",
    "        else:\n",
    "            tempRes += str(direct_add % 2)\n",
    "            carry_device = 1\n",
    "    if carry_device == 1: # 表示有进位\n",
    "         tempRes += '1'\n",
    "    return tempRes[::-1]"
   ]
  },
  {
   "cell_type": "code",
   "execution_count": 7,
   "id": "comprehensive-provincial",
   "metadata": {},
   "outputs": [
    {
     "name": "stdout",
     "output_type": "stream",
     "text": [
      "输入二进制（A）：1011\n",
      "输入二进制（B）：1011\n",
      "10110\n",
      "是否继续：y or n：n\n"
     ]
    }
   ],
   "source": [
    "# 扩增\n",
    "flag = 'y'\n",
    "while flag != 'n':\n",
    "    binStrA = input('输入二进制（A）：')\n",
    "    binStrB = input('输入二进制（B）：')\n",
    "    result = cal_add_func(binStrA, binStrB)\n",
    "    print(result)\n",
    "    flag = input('是否继续：y or n：')"
   ]
  },
  {
   "cell_type": "markdown",
   "id": "musical-pixel",
   "metadata": {},
   "source": [
    "### 二进制乘法(最少两位，A * B, 且字长相同)\n",
    "#### 注意需要借助上面的加法"
   ]
  },
  {
   "cell_type": "code",
   "execution_count": 9,
   "id": "indian-question",
   "metadata": {},
   "outputs": [],
   "source": [
    "# 二进制乘法\n",
    "def cal_multiplication_fun(binStrA, binStrB):\n",
    "    tempRes = ''\n",
    "    rom = []\n",
    "    common_figure = len(binStrA) - 1\n",
    "    r_zero_nums = 0 \n",
    "    l_zero_nums = common_figure\n",
    "    for a, b in zip(binStrA[::-1],binStrB[::-1]):\n",
    "        a = int(a)\n",
    "        b = int(b)\n",
    "        if b == 1:\n",
    "            rom.append('0' * l_zero_nums + binStrA + '0' * r_zero_nums)\n",
    "        l_zero_nums -= 1\n",
    "        r_zero_nums += 1\n",
    "    common_figure = len(rom) - 1\n",
    "    for i in range(0, common_figure):\n",
    "        rom[i+1] = cal_add_func(rom[i],rom[i+1])\n",
    "#     print(rom[common_figure])\n",
    "    return rom[common_figure]"
   ]
  },
  {
   "cell_type": "code",
   "execution_count": 10,
   "id": "yellow-mistake",
   "metadata": {},
   "outputs": [
    {
     "name": "stdout",
     "output_type": "stream",
     "text": [
      "输入二进制（A）：1011\n",
      "输入二进制（B）：1111\n",
      "10100101\n",
      "是否继续：y or n：n\n"
     ]
    }
   ],
   "source": [
    "flag = 'y'\n",
    "while flag != 'n':\n",
    "    binStrA = input('输入二进制（A）：')\n",
    "    binStrB = input('输入二进制（B）：')\n",
    "    result = cal_multiplication_fun(binStrA, binStrB)\n",
    "    print(result)\n",
    "    flag = input('是否继续：y or n：')"
   ]
  },
  {
   "cell_type": "code",
   "execution_count": null,
   "id": "opened-idaho",
   "metadata": {},
   "outputs": [],
   "source": []
  }
 ],
 "metadata": {
  "kernelspec": {
   "display_name": "Python 3",
   "language": "python",
   "name": "python3"
  },
  "language_info": {
   "codemirror_mode": {
    "name": "ipython",
    "version": 3
   },
   "file_extension": ".py",
   "mimetype": "text/x-python",
   "name": "python",
   "nbconvert_exporter": "python",
   "pygments_lexer": "ipython3",
   "version": "3.7.10"
  },
  "toc": {
   "base_numbering": 1,
   "nav_menu": {},
   "number_sections": true,
   "sideBar": true,
   "skip_h1_title": false,
   "title_cell": "Table of Contents",
   "title_sidebar": "Contents",
   "toc_cell": false,
   "toc_position": {},
   "toc_section_display": true,
   "toc_window_display": false
  }
 },
 "nbformat": 4,
 "nbformat_minor": 5
}
